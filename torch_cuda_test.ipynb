{
  "cells": [
    {
      "cell_type": "code",
      "execution_count": 1,
      "metadata": {
        "id": "aMXod72M9POM"
      },
      "outputs": [],
      "source": [
        "import time\n",
        "\n",
        "import torch"
      ]
    },
    {
      "cell_type": "code",
      "execution_count": 2,
      "metadata": {
        "colab": {
          "base_uri": "https://localhost:8080/"
        },
        "id": "djeSP1KreBDO",
        "outputId": "943d020a-587b-4343-cb94-e5dea86647f0"
      },
      "outputs": [
        {
          "name": "stdout",
          "output_type": "stream",
          "text": [
            "pytorch version:  2.0.0+cu117\n",
            "GPU:  NVIDIA GeForce RTX 3080\n",
            "GPU Memory:  10495852544  bytes\n"
          ]
        }
      ],
      "source": [
        "print('pytorch version: ', torch.__version__)\n",
        "print('GPU: ', torch.cuda.get_device_name())\n",
        "print('GPU Memory: ', torch.cuda.get_device_properties(0).total_memory, ' bytes')"
      ]
    },
    {
      "cell_type": "code",
      "execution_count": 3,
      "metadata": {
        "id": "VOTamVuz8uGA"
      },
      "outputs": [],
      "source": [
        "gpu = torch.device('cuda:0')\n",
        "cpu = torch.device('cpu')\n",
        "fhalf = torch.float16\n",
        "ffull = torch.float32\n",
        "ihalf = torch.int16"
      ]
    },
    {
      "cell_type": "code",
      "execution_count": 4,
      "metadata": {
        "id": "L6XDy5akegS2"
      },
      "outputs": [],
      "source": [
        "l = 100\n",
        "shape = (l, l, l)\n",
        "rand_tensor = torch.rand(shape, dtype=fhalf, device=gpu)\n",
        "# rand_tensor = torch.randint(0, 255, shape, dtype=ihalf, device=gpu)"
      ]
    },
    {
      "cell_type": "code",
      "execution_count": 5,
      "metadata": {
        "colab": {
          "base_uri": "https://localhost:8080/"
        },
        "id": "lf9cXw_m9IK0",
        "outputId": "640c22d1-e4b6-4c50-c1fe-926c12b471a5"
      },
      "outputs": [
        {
          "name": "stdout",
          "output_type": "stream",
          "text": [
            "Number of multiply accumulate ops on a 100x100x100 tensor for 1s:  109209\n",
            "Number of multiply accumulate ops on a 100x100x100 tensor for 1s:  111214\n",
            "Number of multiply accumulate ops on a 100x100x100 tensor for 1s:  110810\n",
            "Number of multiply accumulate ops on a 100x100x100 tensor for 1s:  111826\n",
            "Number of multiply accumulate ops on a 100x100x100 tensor for 1s:  111722\n",
            "Number of multiply accumulate ops on a 100x100x100 tensor for 1s:  111963\n",
            "Number of multiply accumulate ops on a 100x100x100 tensor for 1s:  113959\n",
            "Number of multiply accumulate ops on a 100x100x100 tensor for 1s:  113767\n",
            "Number of multiply accumulate ops on a 100x100x100 tensor for 1s:  114007\n",
            "Number of multiply accumulate ops on a 100x100x100 tensor for 1s:  113931\n"
          ]
        }
      ],
      "source": [
        "start_time = time.time()\n",
        "count = 0\n",
        "run_seconds = 0\n",
        "\n",
        "while run_seconds < 10.0:\n",
        "  rand_tensor = rand_tensor * rand_tensor + rand_tensor\n",
        "  count += 1\n",
        "  current_time = time.time()\n",
        "  loop_duration = current_time - start_time\n",
        "  if loop_duration > 1.0:\n",
        "    print('Number of multiply accumulate ops on a {}x{}x{} tensor for 1s: '.format(l, l, l), count)\n",
        "    run_seconds += loop_duration\n",
        "    start_time = current_time\n",
        "    count = 0\n"
      ]
    }
  ],
  "metadata": {
    "accelerator": "GPU",
    "colab": {
      "provenance": []
    },
    "gpuClass": "standard",
    "kernelspec": {
      "display_name": "Python 3",
      "name": "python3"
    },
    "language_info": {
      "codemirror_mode": {
        "name": "ipython",
        "version": 3
      },
      "file_extension": ".py",
      "mimetype": "text/x-python",
      "name": "python",
      "nbconvert_exporter": "python",
      "pygments_lexer": "ipython3",
      "version": "3.10.6"
    }
  },
  "nbformat": 4,
  "nbformat_minor": 0
}
